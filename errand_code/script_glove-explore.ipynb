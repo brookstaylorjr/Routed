{
 "cells": [
  {
   "cell_type": "markdown",
   "metadata": {},
   "source": [
    "# Importing and exploring a large pre-trained GloVe model\n",
    "https://nlp.stanford.edu/projects/glove/\n",
    "\n",
    "Dataset description: Common Crawl (840B tokens, 2.2M vocab, cased, 300d vectors, 2.03 GB download): glove.840B.300d.zip\n",
    "\n",
    "Some code borrowed from https://github.com/brannondorsey/GloVe-experiments/\n",
    "\n",
    "Rough idea: use GloVe vectors to assign \"related concepts\" - in this case, tasks/items to salient words pulled from a Yelp review\n"
   ]
  },
  {
   "cell_type": "code",
   "execution_count": 3,
   "metadata": {},
   "outputs": [],
   "source": [
    "import codecs,json\n",
    "import numpy as np\n",
    "\n",
    "def build_word_vector_matrix(vector_file, n_words):\n",
    "    '''Read a GloVe array from sys.argv[1] and return its vectors and labels as arrays'''\n",
    "    np_arrays = []\n",
    "    labels_array = []\n",
    "\n",
    "    with codecs.open(vector_file, 'r', 'utf-8') as f:\n",
    "        for i, line in enumerate(f):\n",
    "            sr = line.split()\n",
    "            labels_array.append(sr[0])\n",
    "            np_arrays.append(np.array([float(j) for j in sr[1:]]))\n",
    "            if i == n_words - 1:\n",
    "                return np.array(np_arrays), labels_array\n",
    "            \n",
    "def get_cache_filename_from_args(args):\n",
    "        a = (args.vector_dim, args.num_words, args.num_clusters)\n",
    "        return '{}D_{}-words_{}-clusters.json'.format(*a)\n",
    "\n",
    "def get_label_dictionaries(labels_array):\n",
    "        id_to_word = dict(zip(range(len(labels_array)), labels_array))\n",
    "        word_to_id = dict((v,k) for k,v in id_to_word.items())\n",
    "        return word_to_id, id_to_word\n",
    "\n",
    "def save_json(filename, results):\n",
    "        with open(filename, 'w') as f:\n",
    "                json.dump(results, f)\n",
    "\n",
    "def load_json(filename):\n",
    "        with open(filename, 'r') as f:\n",
    "                return json.load(f)"
   ]
  },
  {
   "cell_type": "code",
   "execution_count": 9,
   "metadata": {},
   "outputs": [],
   "source": [
    "vectors, words = build_word_vector_matrix('./glovesets/glove.6B.50d.txt', 400000)"
   ]
  },
  {
   "cell_type": "code",
   "execution_count": 10,
   "metadata": {},
   "outputs": [
    {
     "data": {
      "text/plain": [
       "'capron'"
      ]
     },
     "execution_count": 10,
     "metadata": {},
     "output_type": "execute_result"
    }
   ],
   "source": [
    "words[100000]"
   ]
  },
  {
   "cell_type": "code",
   "execution_count": 34,
   "metadata": {},
   "outputs": [
    {
     "data": {
      "text/plain": [
       "12328"
      ]
     },
     "execution_count": 34,
     "metadata": {},
     "output_type": "execute_result"
    }
   ],
   "source": [
    "words.index('brake')"
   ]
  },
  {
   "cell_type": "code",
   "execution_count": null,
   "metadata": {},
   "outputs": [],
   "source": []
  }
 ],
 "metadata": {
  "kernelspec": {
   "display_name": "Python 3",
   "language": "python",
   "name": "python3"
  },
  "language_info": {
   "codemirror_mode": {
    "name": "ipython",
    "version": 3
   },
   "file_extension": ".py",
   "mimetype": "text/x-python",
   "name": "python",
   "nbconvert_exporter": "python",
   "pygments_lexer": "ipython3",
   "version": "3.6.7"
  },
  "varInspector": {
   "cols": {
    "lenName": 16,
    "lenType": 16,
    "lenVar": 40
   },
   "kernels_config": {
    "python": {
     "delete_cmd_postfix": "",
     "delete_cmd_prefix": "del ",
     "library": "var_list.py",
     "varRefreshCmd": "print(var_dic_list())"
    },
    "r": {
     "delete_cmd_postfix": ") ",
     "delete_cmd_prefix": "rm(",
     "library": "var_list.r",
     "varRefreshCmd": "cat(var_dic_list()) "
    }
   },
   "types_to_exclude": [
    "module",
    "function",
    "builtin_function_or_method",
    "instance",
    "_Feature"
   ],
   "window_display": false
  }
 },
 "nbformat": 4,
 "nbformat_minor": 2
}
